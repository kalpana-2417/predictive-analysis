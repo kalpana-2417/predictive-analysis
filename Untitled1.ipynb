{
  "nbformat": 4,
  "nbformat_minor": 0,
  "metadata": {
    "colab": {
      "provenance": [],
      "authorship_tag": "ABX9TyOaaK0sNrJ4536pYVwccxhQ",
      "include_colab_link": true
    },
    "kernelspec": {
      "name": "python3",
      "display_name": "Python 3"
    },
    "language_info": {
      "name": "python"
    }
  },
  "cells": [
    {
      "cell_type": "markdown",
      "metadata": {
        "id": "view-in-github",
        "colab_type": "text"
      },
      "source": [
        "<a href=\"https://colab.research.google.com/github/kalpana-2417/predictive-analysis/blob/main/Untitled1.ipynb\" target=\"_parent\"><img src=\"https://colab.research.google.com/assets/colab-badge.svg\" alt=\"Open In Colab\"/></a>"
      ]
    },
    {
      "cell_type": "code",
      "execution_count": null,
      "metadata": {
        "colab": {
          "base_uri": "https://localhost:8080/"
        },
        "id": "g02FdYUoYbIo",
        "outputId": "a2f6c09d-f509-4238-dbae-bcf46ec07a20"
      },
      "outputs": [
        {
          "output_type": "stream",
          "name": "stdout",
          "text": [
            "Requirement already satisfied: pandas in /usr/local/lib/python3.11/dist-packages (2.2.2)\n",
            "Requirement already satisfied: scikit-learn in /usr/local/lib/python3.11/dist-packages (1.6.1)\n",
            "Requirement already satisfied: matplotlib in /usr/local/lib/python3.11/dist-packages (3.10.0)\n",
            "Requirement already satisfied: numpy>=1.23.2 in /usr/local/lib/python3.11/dist-packages (from pandas) (2.0.2)\n",
            "Requirement already satisfied: python-dateutil>=2.8.2 in /usr/local/lib/python3.11/dist-packages (from pandas) (2.9.0.post0)\n",
            "Requirement already satisfied: pytz>=2020.1 in /usr/local/lib/python3.11/dist-packages (from pandas) (2025.2)\n",
            "Requirement already satisfied: tzdata>=2022.7 in /usr/local/lib/python3.11/dist-packages (from pandas) (2025.2)\n",
            "Requirement already satisfied: scipy>=1.6.0 in /usr/local/lib/python3.11/dist-packages (from scikit-learn) (1.16.0)\n",
            "Requirement already satisfied: joblib>=1.2.0 in /usr/local/lib/python3.11/dist-packages (from scikit-learn) (1.5.1)\n",
            "Requirement already satisfied: threadpoolctl>=3.1.0 in /usr/local/lib/python3.11/dist-packages (from scikit-learn) (3.6.0)\n",
            "Requirement already satisfied: contourpy>=1.0.1 in /usr/local/lib/python3.11/dist-packages (from matplotlib) (1.3.2)\n",
            "Requirement already satisfied: cycler>=0.10 in /usr/local/lib/python3.11/dist-packages (from matplotlib) (0.12.1)\n",
            "Requirement already satisfied: fonttools>=4.22.0 in /usr/local/lib/python3.11/dist-packages (from matplotlib) (4.59.0)\n",
            "Requirement already satisfied: kiwisolver>=1.3.1 in /usr/local/lib/python3.11/dist-packages (from matplotlib) (1.4.8)\n",
            "Requirement already satisfied: packaging>=20.0 in /usr/local/lib/python3.11/dist-packages (from matplotlib) (25.0)\n",
            "Requirement already satisfied: pillow>=8 in /usr/local/lib/python3.11/dist-packages (from matplotlib) (11.3.0)\n",
            "Requirement already satisfied: pyparsing>=2.3.1 in /usr/local/lib/python3.11/dist-packages (from matplotlib) (3.2.3)\n",
            "Requirement already satisfied: six>=1.5 in /usr/local/lib/python3.11/dist-packages (from python-dateutil>=2.8.2->pandas) (1.17.0)\n"
          ]
        }
      ],
      "source": [
        "pip install pandas scikit-learn matplotlib\n"
      ]
    },
    {
      "cell_type": "code",
      "source": [
        "import pandas as pd"
      ],
      "metadata": {
        "id": "1p-RPWJVfJ0W"
      },
      "execution_count": null,
      "outputs": []
    },
    {
      "cell_type": "code",
      "source": [
        "from sklearn.model_selection import train_test_split\n",
        "from sklearn.linear_model import LinearRegression\n",
        "from sklearn.metrics import mean_squared_error, r2_score"
      ],
      "metadata": {
        "id": "6Am298rgfRfk"
      },
      "execution_count": null,
      "outputs": []
    },
    {
      "cell_type": "code",
      "source": [
        "import matplotlib.pyplot as plt"
      ],
      "metadata": {
        "id": "uRteyd7vfXTN"
      },
      "execution_count": null,
      "outputs": []
    },
    {
      "cell_type": "code",
      "source": [
        "import pandas as pd\n",
        "\n",
        "# Load the CSV file\n",
        "df = pd.read_csv('/content/hpi_master.csv')\n",
        "\n",
        "# Show the first few rows\n",
        "print(\"Dataset Head:\")\n",
        "print(df.head())\n",
        "\n",
        "# Show column names and types\n",
        "print(\"\\nColumn Info:\")\n",
        "print(df.info())\n"
      ],
      "metadata": {
        "colab": {
          "base_uri": "https://localhost:8080/"
        },
        "id": "8YO75mxCi9ww",
        "outputId": "2af14ddf-5a0b-4f0a-d190-20a7b8b28e53"
      },
      "execution_count": null,
      "outputs": [
        {
          "output_type": "stream",
          "name": "stdout",
          "text": [
            "Dataset Head:\n",
            "      hpi_type     hpi_flavor frequency                   level  \\\n",
            "0  traditional  purchase-only   monthly  USA or Census Division   \n",
            "1  traditional  purchase-only   monthly  USA or Census Division   \n",
            "2  traditional  purchase-only   monthly  USA or Census Division   \n",
            "3  traditional  purchase-only   monthly  USA or Census Division   \n",
            "4  traditional  purchase-only   monthly  USA or Census Division   \n",
            "\n",
            "                    place_name place_id    yr  period  index_nsa  index_sa  \n",
            "0  East North Central Division   DV_ENC  1991       1     100.00    100.00  \n",
            "1  East North Central Division   DV_ENC  1991       2     100.87    100.87  \n",
            "2  East North Central Division   DV_ENC  1991       3     101.32    100.90  \n",
            "3  East North Central Division   DV_ENC  1991       4     101.73    100.97  \n",
            "4  East North Central Division   DV_ENC  1991       5     102.32    101.30  \n",
            "\n",
            "Column Info:\n",
            "<class 'pandas.core.frame.DataFrame'>\n",
            "RangeIndex: 130697 entries, 0 to 130696\n",
            "Data columns (total 10 columns):\n",
            " #   Column      Non-Null Count   Dtype  \n",
            "---  ------      --------------   -----  \n",
            " 0   hpi_type    130697 non-null  object \n",
            " 1   hpi_flavor  130697 non-null  object \n",
            " 2   frequency   130697 non-null  object \n",
            " 3   level       130697 non-null  object \n",
            " 4   place_name  130697 non-null  object \n",
            " 5   place_id    130697 non-null  object \n",
            " 6   yr          130697 non-null  int64  \n",
            " 7   period      130697 non-null  int64  \n",
            " 8   index_nsa   130697 non-null  float64\n",
            " 9   index_sa    43429 non-null   float64\n",
            "dtypes: float64(2), int64(2), object(6)\n",
            "memory usage: 10.0+ MB\n",
            "None\n"
          ]
        }
      ]
    },
    {
      "cell_type": "code",
      "source": [
        "# Drop irrelevant columns (e.g., ID or unnamed columns)\n",
        "df = df.drop(columns=[col for col in df.columns if 'unnamed' in col.lower() or col.lower() == 'id'], errors='ignore')\n",
        "\n",
        "# Check for missing values\n",
        "print(\"\\nMissing Values:\")\n",
        "print(df.isnull().sum())\n",
        "\n",
        "# Drop rows with missing data (or fill them)\n",
        "df = df.dropna()\n"
      ],
      "metadata": {
        "colab": {
          "base_uri": "https://localhost:8080/"
        },
        "id": "DqFmfYqQjAhg",
        "outputId": "9d8f809a-ca52-4dfb-9535-ffa6be95bdd2"
      },
      "execution_count": null,
      "outputs": [
        {
          "output_type": "stream",
          "name": "stdout",
          "text": [
            "\n",
            "Missing Values:\n",
            "hpi_type      0\n",
            "hpi_flavor    0\n",
            "frequency     0\n",
            "level         0\n",
            "place_name    0\n",
            "place_id      0\n",
            "yr            0\n",
            "period        0\n",
            "index_nsa     0\n",
            "index_sa      0\n",
            "dtype: int64\n"
          ]
        }
      ]
    },
    {
      "cell_type": "code",
      "source": [
        "print(df.columns)"
      ],
      "metadata": {
        "colab": {
          "base_uri": "https://localhost:8080/"
        },
        "id": "aXmoLTuej2qp",
        "outputId": "a946ffcb-85ce-4b7d-fabb-89b183dd6fb8"
      },
      "execution_count": null,
      "outputs": [
        {
          "output_type": "stream",
          "name": "stdout",
          "text": [
            "Index(['hpi_type', 'hpi_flavor', 'frequency', 'level', 'place_name',\n",
            "       'place_id', 'yr', 'period', 'index_nsa', 'index_sa'],\n",
            "      dtype='object')\n"
          ]
        }
      ]
    },
    {
      "cell_type": "code",
      "source": [
        "X = df[['place_name', 'place_id', 'yr']]\n",
        "y = df['index_nsa']\n",
        "\n",
        "# Convert categorical features to numerical using one-hot encoding\n",
        "X = pd.get_dummies(X, columns=['place_name', 'place_id'], drop_first=True)"
      ],
      "metadata": {
        "id": "CDemoH5ij9Tn"
      },
      "execution_count": 47,
      "outputs": []
    }
  ]
}